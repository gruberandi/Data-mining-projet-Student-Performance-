{
 "cells": [
  {
   "cell_type": "code",
   "execution_count": null,
   "id": "5dbe6616",
   "metadata": {},
   "outputs": [],
   "source": []
  },
  {
   "cell_type": "code",
   "execution_count": 1,
   "id": "82bc2336-ab31-458b-ae53-baf8c70cfcb9",
   "metadata": {},
   "outputs": [
    {
     "ename": "ModuleNotFoundError",
     "evalue": "No module named 'pandas'",
     "output_type": "error",
     "traceback": [
      "\u001b[1;31m---------------------------------------------------------------------------\u001b[0m",
      "\u001b[1;31mModuleNotFoundError\u001b[0m                       Traceback (most recent call last)",
      "Cell \u001b[1;32mIn[1], line 1\u001b[0m\n\u001b[1;32m----> 1\u001b[0m \u001b[38;5;28;01mimport\u001b[39;00m\u001b[38;5;250m \u001b[39m\u001b[38;5;21;01mpandas\u001b[39;00m\u001b[38;5;250m \u001b[39m\u001b[38;5;28;01mas\u001b[39;00m\u001b[38;5;250m \u001b[39m\u001b[38;5;21;01mpd\u001b[39;00m \n\u001b[0;32m      2\u001b[0m \u001b[38;5;28;01mimport\u001b[39;00m\u001b[38;5;250m \u001b[39m\u001b[38;5;21;01mmatplotlib\u001b[39;00m\u001b[38;5;21;01m.\u001b[39;00m\u001b[38;5;21;01mpyplot\u001b[39;00m\u001b[38;5;250m \u001b[39m\u001b[38;5;28;01mas\u001b[39;00m\u001b[38;5;250m \u001b[39m\u001b[38;5;21;01mplt\u001b[39;00m\n\u001b[0;32m      3\u001b[0m \u001b[38;5;28;01mimport\u001b[39;00m\u001b[38;5;250m \u001b[39m\u001b[38;5;21;01mseaborn\u001b[39;00m\u001b[38;5;250m \u001b[39m\u001b[38;5;28;01mas\u001b[39;00m\u001b[38;5;250m \u001b[39m\u001b[38;5;21;01msns\u001b[39;00m\n",
      "\u001b[1;31mModuleNotFoundError\u001b[0m: No module named 'pandas'"
     ]
    }
   ],
   "source": [
    "import pandas as pd \n",
    "import matplotlib.pyplot as plt\n",
    "import seaborn as sns\n",
    "from sklearn.cluster import KMeans\n",
    "from sklearn.preprocessing import StandardScaler\n",
    "from sklearn.decomposition import PCA\n",
    "import matplotlib.pyplot as plt\n",
    "from sklearn.preprocessing import StandardScaler\n",
    "df = pd.read_excel(r\"C:\\Users\\Uer\\Documents\\9.FELEV\\data\\student-por.xlsx\")\n",
    "df"
   ]
  },
  {
   "cell_type": "code",
   "execution_count": null,
   "id": "0f3d2748-64e0-44c0-88da-edd49d2228fb",
   "metadata": {},
   "outputs": [],
   "source": [
    "df = df.drop_duplicates()\n",
    "df"
   ]
  },
  {
   "cell_type": "code",
   "execution_count": null,
   "id": "d5bf51d1-47a9-4169-a4a3-c35da977b6c1",
   "metadata": {},
   "outputs": [],
   "source": [
    "#check missing values \n",
    "missing_values = df.isnull().sum()\n",
    "missing_values"
   ]
  },
  {
   "cell_type": "code",
   "execution_count": null,
   "id": "effe8a61-ea52-42cb-9d23-9852da830195",
   "metadata": {},
   "outputs": [],
   "source": [
    "#check duplicates \n",
    "duplicates = df.duplicated().sum()\n",
    "duplicates"
   ]
  },
  {
   "cell_type": "code",
   "execution_count": null,
   "id": "e6728cc4-a7cb-4e7d-8a6a-55ae8d9cd7cc",
   "metadata": {},
   "outputs": [],
   "source": [
    "print(\"\\nChecking data types:\")\n",
    "print(df.dtypes)"
   ]
  },
  {
   "cell_type": "code",
   "execution_count": null,
   "id": "543fefeb-bf84-44e4-9a2c-b71ea1a683c3",
   "metadata": {},
   "outputs": [],
   "source": [
    "#rename column title \n",
    "df.rename(columns={'Medu': 'mother education'}, inplace=True)\n",
    "df.rename(columns={'Pstatus': 'Parent Status'}, inplace=True)\n",
    "df.rename(columns={'Fedu': 'Father education'}, inplace=True)\n",
    "df.rename(columns={'Mjob': 'Mother Job '}, inplace=True)\n",
    "df.rename(columns={'Fjob': 'Father Job '}, inplace=True)\n",
    "df.rename(columns={'reason': 'reason to choose this school '}, inplace=True)\n",
    "df.rename(columns={'schoolsup': 'extra educational support'}, inplace=True)\n",
    "df.rename(columns={'famsup': 'family educational support '}, inplace=True)\n",
    "df.rename(columns={'paid': 'extra paid classes within the course subject'}, inplace=True)\n",
    "df.rename(columns={'activities': 'extra-curricular activities'}, inplace=True)\n",
    "df.rename(columns={'nursery': 'attended nursery school'}, inplace=True)\n",
    "df.rename(columns={'higher': 'Wants higher education'}, inplace=True)\n",
    "df.rename(columns={'G1': 'first period grade'}, inplace=True)\n",
    "df.rename(columns={'G2': 'second period grade'}, inplace=True)\n",
    "df.rename(columns={'G3': 'third period grade'}, inplace=True)\n",
    "df"
   ]
  },
  {
   "cell_type": "code",
   "execution_count": null,
   "id": "cd233912-60ed-454d-93de-572e68ddb42f",
   "metadata": {},
   "outputs": [],
   "source": [
    "#Exploratory Data Analysis (EDA)\n",
    "#average\n",
    "averageGratuationScore = df['third period grade'].mean()\n",
    "avarageStudentage = df['age'].mean()\n",
    "averageGratuationScore"
   ]
  },
  {
   "cell_type": "code",
   "execution_count": null,
   "id": "ad2e622e-b139-4204-9ad4-03dc29c8d49f",
   "metadata": {},
   "outputs": [],
   "source": [
    "avarageStudentage = df['age'].mean()\n",
    "avarageStudentage"
   ]
  },
  {
   "cell_type": "code",
   "execution_count": null,
   "id": "55f7641a-2769-48b7-9448-f62f78aededd",
   "metadata": {},
   "outputs": [],
   "source": [
    "#median\n",
    "medianStudentfreetime = df[\"freetime\"].median()\n",
    "medianStudentfreetime"
   ]
  },
  {
   "cell_type": "code",
   "execution_count": null,
   "id": "93e7ebd4-35c6-4686-90dc-498a957561b3",
   "metadata": {},
   "outputs": [],
   "source": [
    "medianThirdPeriodGradeScore = df[\"third period grade\"].median()\n",
    "medianThirdPeriodGradeScore"
   ]
  },
  {
   "cell_type": "code",
   "execution_count": null,
   "id": "64a49c53-0cfa-438e-af76-9b4deaf53fe2",
   "metadata": {},
   "outputs": [],
   "source": []
  },
  {
   "cell_type": "code",
   "execution_count": null,
   "id": "0cc0c381-c422-407c-aa07-ba1785af9b1d",
   "metadata": {
    "scrolled": true
   },
   "outputs": [],
   "source": [
    "#analysis question 1 : What is the distribution of students' ages?\n",
    "plt.figure(figsize=(8, 6))\n",
    "sns.histplot(df['age'], kde=True, bins=10, color='blue')\n",
    "plt.title(\"Distribution of Students' Ages\")\n",
    "plt.xlabel(\"Age\")\n",
    "plt.ylabel(\"Frequency\")\n",
    "plt.show()"
   ]
  },
  {
   "cell_type": "code",
   "execution_count": null,
   "id": "39428176-7524-46ad-b757-686c5d334807",
   "metadata": {},
   "outputs": [],
   "source": [
    "#analysis question 2: Travel time and study time\n",
    "if \"traveltime\" in df.columns and \"studytime\" in df.columns : \n",
    "    plt.figure(figsize=(8, 6))\n",
    "    sns.barplot(data=df, x='traveltime', y='studytime', palette='coolwarm')\n",
    "    plt.title(\"Travel Time vs Study Time\")\n",
    "    plt.xlabel(\"Travel Time\")\n",
    "    plt.ylabel(\"Study Time\")\n",
    "    plt.show()"
   ]
  },
  {
   "cell_type": "code",
   "execution_count": null,
   "id": "6363aca8-f03b-4a5d-97db-e35361351b7c",
   "metadata": {},
   "outputs": [],
   "source": [
    "#analysis question 2: Average grade by parental education level\n",
    "if \"mother education\" in df.columns and \"third period grade\" in df.columns :\n",
    "    plt.figure(figsize=(8, 6))\n",
    "    sns.barplot(data=df, x='mother education', y='third period grade', palette='viridis')\n",
    "    plt.title(\"Average Final Grade by Mother's Education Level\")\n",
    "    plt.xlabel(\"Mother's Education Level\")\n",
    "    plt.ylabel(\"Average Final Grade\")\n",
    "    plt.show()\n",
    "    \n"
   ]
  },
  {
   "cell_type": "code",
   "execution_count": null,
   "id": "ff0eb56f-2c6f-4208-b90c-6f27656bb99c",
   "metadata": {},
   "outputs": [],
   "source": [
    "#clustering implementation using K-Means\n",
    "import pandas as pd\n",
    "import matplotlib.pyplot as plt\n",
    "import seaborn as sns\n",
    "from sklearn.preprocessing import StandardScaler\n",
    "from sklearn.decomposition import PCA\n",
    "from sklearn.cluster import KMeans\n",
    "df.rename(columns=lambda x: x.strip(), inplace=True)  \n",
    "features = df[['studytime', 'mother education', 'Father education']].dropna()\n",
    "features.rename(columns={'mother education': 'Medu', 'Father education': 'Fedu'}, inplace=True)\n",
    "scaler = StandardScaler()\n",
    "scaled_features = scaler.fit_transform(features)\n",
    "pca = PCA(n_components=2)\n",
    "reduced_features = pca.fit_transform(scaled_features)\n",
    "kmeans = KMeans(n_clusters=3, random_state=42)\n",
    "clusters = kmeans.fit_predict(reduced_features)\n",
    "features['Cluster'] = clusters\n",
    "plt.figure(figsize=(10, 7))\n",
    "sns.scatterplot(\n",
    "    data=features,\n",
    "    x='Medu', \n",
    "    y='studytime', \n",
    "    hue='Cluster',  \n",
    "    palette='viridis',\n",
    "    style='Cluster',\n",
    "    s=100\n",
    ")\n",
    "plt.title('Clusters Based on Studytime and Parental Education (Medu, Fedu)', fontsize=14)\n",
    "plt.xlabel('Mother Education Level (Medu)', fontsize=12)\n",
    "plt.ylabel('Studytime', fontsize=12)\n",
    "plt.legend(title=\"Cluster\")\n",
    "plt.show()"
   ]
  },
  {
   "cell_type": "code",
   "execution_count": null,
   "id": "d6e4afd5-a03f-4a04-8182-170dfdd0dde1",
   "metadata": {},
   "outputs": [],
   "source": [
    "from sklearn.metrics import silhouette_score\n",
    "silhouette = silhouette_score(scaled_features, clusters)\n",
    "print(f\"Silhouette Score: {silhouette:.2f}\")"
   ]
  },
  {
   "cell_type": "code",
   "execution_count": null,
   "id": "7c7f09df-92ce-432b-9944-f36e3b6d732a",
   "metadata": {},
   "outputs": [],
   "source": []
  },
  {
   "cell_type": "code",
   "execution_count": null,
   "id": "f6a01ab2-e89b-49d9-9914-946723399fa5",
   "metadata": {},
   "outputs": [],
   "source": []
  }
 ],
 "metadata": {
  "kernelspec": {
   "display_name": ".venv",
   "language": "python",
   "name": "python3"
  },
  "language_info": {
   "codemirror_mode": {
    "name": "ipython",
    "version": 3
   },
   "file_extension": ".py",
   "mimetype": "text/x-python",
   "name": "python",
   "nbconvert_exporter": "python",
   "pygments_lexer": "ipython3",
   "version": "3.9.6"
  }
 },
 "nbformat": 4,
 "nbformat_minor": 5
}
